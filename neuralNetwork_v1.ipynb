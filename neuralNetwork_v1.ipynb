{
 "cells": [
  {
   "cell_type": "code",
   "execution_count": 215,
   "metadata": {},
   "outputs": [],
   "source": [
    "import numpy as np\n",
    "from PIL import ImageFilter, Image\n",
    "from skimage import transform\n",
    "import imageio\n",
    "\n",
    "# scipy.special for the sigmoid function expit()\n",
    "import scipy.special\n",
    "# library for plotting arrays\n",
    "import matplotlib.pyplot\n",
    "# plot inside notebook\n",
    "%matplotlib inline\n",
    "\n",
    "# neural network class definition\n",
    "class neuralNetwork:\n",
    "    \n",
    "    # initialise the neural network\n",
    "    def __init__(self, inputnodes, hiddennodes, outputnodes, learningrate):\n",
    "\n",
    "        # set number of nodes in each layer\n",
    "        self.inodes = inputnodes\n",
    "        self.hnodes = hiddennodes\n",
    "        self.onodes = outputnodes\n",
    "        \n",
    "        # learning rate\n",
    "        self.lr = learningrate   \n",
    "        \n",
    "        # link weight matrices, wih and who\n",
    "        # weights inside the arrays are w_i_j. where link is from node i to node j in the next layer\n",
    "        # w11 w21\n",
    "        # w12 w22 etc\n",
    "        self.wih = np.random.normal(0.0, pow(self.hnodes, -0.5), (self.hnodes, self.inodes))\n",
    "        self.who = np.random.normal(0.0, pow(self.onodes, -0.5), (self.onodes, self.hnodes)) \n",
    "        \n",
    "        # activation function is the sigmoid function\n",
    "        self.activation_function = lambda x: scipy.special.expit(x)\n",
    "        pass\n",
    "    \n",
    "    # train the neural network\n",
    "    def train(self, inputs_list, target_list):\n",
    "        \n",
    "        # convert inputs list to 2d array\n",
    "        inputs = np.array(inputs_list, ndmin=2).T\n",
    "        targets = np.array(target_list, ndmin=2).T\n",
    "        \n",
    "        # calculate signals into hidden layer\n",
    "        hidden_inputs = np.dot(self.wih, inputs)\n",
    "        # calculate the signals emerging from hidden layer\n",
    "        hidden_outputs = self.activation_function(hidden_inputs)\n",
    "        \n",
    "        # calculate signals into final output layer\n",
    "        final_inputs = np.dot(self.who, hidden_outputs)\n",
    "        # calculate the signals emerging from final output layer\n",
    "        final_outputs = self.activation_function(final_inputs)\n",
    "        \n",
    "        # error is the (target - actual)\n",
    "        output_errors = targets - final_outputs\n",
    "        \n",
    "        # hidden layers error is the out_errors, split by weights, recombined at hidden nodes\n",
    "        hidden_errors = np.dot(self.who.T, output_errors)\n",
    "        \n",
    "        # update the weights for the links between the hidden and output layers\n",
    "        self.who += self.lr * np.dot((output_errors * final_outputs *(1.0 - final_outputs)), np.transpose(hidden_outputs))\n",
    "        \n",
    "        # update the weights for the links between the hidden and output layers\n",
    "        self.wih += self.lr * np.dot((hidden_errors * hidden_outputs *(1.0 - hidden_outputs)), np.transpose(inputs))\n",
    "        \n",
    "        pass\n",
    "    \n",
    "    # query the neural network\n",
    "    def query(self, inputs_list):\n",
    "        \n",
    "        # covert input list to 2d array\n",
    "        inputs = np.array(inputs_list, ndmin=2).T\n",
    "        \n",
    "        # calculate signals into hidden layer\n",
    "        hidden_inputs = np.dot(self.wih, inputs)\n",
    "        # calculate the signals emerging from hidden layer\n",
    "        hidden_outputs = self.activation_function(hidden_inputs)\n",
    "        \n",
    "        # calculate signals into final output layer\n",
    "        final_inputs = np.dot(self.who, hidden_outputs)\n",
    "        # calculate the signals emerging from final output layer\n",
    "        final_outputs = self.activation_function(final_inputs)\n",
    "        \n",
    "        return final_outputs        \n",
    "        \n",
    "        pass\n",
    "    "
   ]
  },
  {
   "cell_type": "code",
   "execution_count": 377,
   "metadata": {},
   "outputs": [],
   "source": [
    "# number of input, hidden and output nodes\n",
    "input_nodes = 784\n",
    "hidden_nodes = 200\n",
    "output_nodes = 10\n",
    "\n",
    "# learining rate is 0.3\n",
    "learning_rate = 0.1\n",
    "\n",
    "# create instance of neural network\n",
    "n = neuralNetwork(input_nodes,hidden_nodes,output_nodes,learning_rate)\n",
    "\n",
    "# load the mnist training data csv into list\n",
    "training_data_file = open(\"/Users/jonas/Desktop/neural_network/strom_train.csv\", 'r')\n",
    "training_data_list = training_data_file.readlines()\n",
    "training_data_file.close()\n",
    "\n",
    "# train the neural network\n",
    "\n",
    "# epochs is the number of thimes the training data set is used for training\n",
    "epochs = 4000\n",
    "\n",
    "for e in range(epochs):\n",
    "    \n",
    "    # go through all records in the training_data_list\n",
    "    for record in training_data_list:\n",
    "        # split the record by the ',' commas\n",
    "        all_values = record.split(',')\n",
    "        # scale and shift the inputs\n",
    "        inputs = (np.asfarray(all_values[1:]) / 255.0 * 0.99 ) + 0.01\n",
    "        # create the target output values (all 0.001 expect the desired value which is 0.99)\n",
    "        targets = np.zeros(output_nodes) + 0.01\n",
    "        # all_values[0] is the target label for this record\n",
    "        targets[int(all_values[0])] = 0.99\n",
    "        n.train(inputs, targets)\n",
    "        pass\n",
    "    pass"
   ]
  },
  {
   "cell_type": "code",
   "execution_count": 378,
   "metadata": {},
   "outputs": [],
   "source": [
    "# load test data\n",
    "test_data_file = open(\"/Users/jonas/Desktop/neural_network/strom_train.csv\", 'r')\n",
    "test_data_list = test_data_file.readlines()\n",
    "test_data_file.close()\n",
    "\n",
    "# test the neural network\n",
    "# scorecard\n",
    "scorecard = []\n",
    "\n",
    "# go through all records in the test_data_list\n",
    "for record in test_data_list:\n",
    "    # split the record by the ',' commas\n",
    "    all_values = record.split(',')\n",
    "    # correct answer is first value\n",
    "    correct_label = int(all_values[0])\n",
    "    #print(correct_label, \"correct label\")\n",
    "    # scale and shift the inputs\n",
    "    inputs = (np.asfarray(all_values[1:]) / 255.0 * 0.99 ) + 0.01\n",
    "    # query the network\n",
    "    outputs = n.query(inputs)\n",
    "    # the index of the highest value corresponds to the label\n",
    "    label = np.argmax(outputs)\n",
    "    #print(label, \"network's answer\")\n",
    "    # append correct or incorrect to list\n",
    "    if (label == correct_label):\n",
    "        # network's anwer matches correct answer, add 1 to scorecard\n",
    "        scorecard.append(1)\n",
    "    else:\n",
    "        # network's answer doesn't match correct answer, add 0 to scorecard\n",
    "        scorecard.append(0)\n",
    "        pass\n",
    "    pass\n"
   ]
  },
  {
   "cell_type": "code",
   "execution_count": 379,
   "metadata": {},
   "outputs": [
    {
     "name": "stdout",
     "output_type": "stream",
     "text": [
      "performance =  1.0\n"
     ]
    }
   ],
   "source": [
    "# calculate the performance score, the frction of correct answers\n",
    "scorecard_array = np.asarray(scorecard)\n",
    "print(\"performance = \", scorecard_array.sum() / scorecard_array.size)"
   ]
  },
  {
   "cell_type": "code",
   "execution_count": 57,
   "metadata": {},
   "outputs": [],
   "source": [
    "#image_array = np.asfarray(all_values[1:]).reshape((28,28))\n",
    "#matplotlib.pyplot.imshow(image_array, cmap='Greys', interpolation='None')"
   ]
  },
  {
   "cell_type": "code",
   "execution_count": 428,
   "metadata": {},
   "outputs": [
    {
     "data": {
      "image/png": "[encoded data removed]",
      "text/plain": [
       "<Figure size 432x288 with 1 Axes>"
      ]
     },
     "metadata": {
      "needs_background": "light"
     },
     "output_type": "display_data"
    }
   ],
   "source": [
    "from skimage import transform,io\n",
    "import imageio\n",
    "img_array = imageio.imread(\"/Users/jonas/Desktop/neural_network/test_images/tmp5.png\", as_gray=True)\n",
    "img_array = transform.resize(img_array,(28,28), anti_aliasing=True)\n",
    "img_array = img_array.astype(int)\n",
    "#matplotlib.pyplot.imshow(img_array, cmap='Greys')\n",
    "#matplotlib.pyplot.imshow(img_array)\n",
    "tmp = img_array.reshape(784)\n",
    "idx=0\n",
    "for x in tmp:\n",
    "    if x < 50.0:\n",
    "        tmp[idx] = 0.0\n",
    "        pass\n",
    "    idx += 1\n",
    "    pass\n",
    "#print(tmp)\n",
    "matplotlib.pyplot.imshow(tmp.reshape((28,28)))\n",
    "#img_data = 255.0 - tmp\n",
    "img_data = (tmp / 255.0 * 0.99) + 0.01\n",
    "#print(img_data)"
   ]
  },
  {
   "cell_type": "code",
   "execution_count": 429,
   "metadata": {},
   "outputs": [
    {
     "name": "stdout",
     "output_type": "stream",
     "text": [
      "Das neuronale Netz hat zu  70.0 % folgende Zahl erkannt:  9\n"
     ]
    }
   ],
   "source": [
    "#print(n.query(img_data))\n",
    "print(\"Das neuronale Netz hat zu \",np.round(np.max(n.query(img_data)),2)*100,\"% folgende Zahl erkannt: \", np.argmax(n.query(img_data)))"
   ]
  },
  {
   "cell_type": "code",
   "execution_count": null,
   "metadata": {},
   "outputs": [],
   "source": []
  },
  {
   "cell_type": "code",
   "execution_count": 418,
   "metadata": {},
   "outputs": [
    {
     "data": {
      "image/png": "[encoded data removed]",
      "text/plain": [
       "<Figure size 432x288 with 1 Axes>"
      ]
     },
     "metadata": {
      "needs_background": "light"
     },
     "output_type": "display_data"
    }
   ],
   "source": [
    "path = \"/Users/jonas/Desktop/neural_network/test_images/pic6.png\"\n",
    "outputPath = \"/Users/jonas/Desktop/neural_network/test_images/prepImg.png\"\n",
    "\n",
    "def prepImage (path,outputPath):\n",
    "    img = Image.open(path)\n",
    "    img = img.convert('RGB')\n",
    "    img = img.filter(ImageFilter.BLUR)\n",
    "    matplotlib.pyplot.imshow(img)\n",
    "    img.save(outputPath)\n",
    "pass\n",
    "\n",
    "prepImage(path,outputPath)"
   ]
  },
  {
   "cell_type": "code",
   "execution_count": 419,
   "metadata": {},
   "outputs": [],
   "source": [
    "path = '/Users/jonas/Desktop/neural_network/test_images/prepImg.png'\n",
    "pics = 5\n",
    "mode = \"s\"\n",
    "outputPath = '/Users/jonas/Desktop/neural_network/test_images/'\n",
    "\n",
    "\n",
    "def cutNumber (path,pics,mode,outputPath):\n",
    "    img = Image.open(path)\n",
    "    w,h = img.size\n",
    "    \n",
    "    a1 = 0\n",
    "    a2 = 20\n",
    "    a3 = w / pics\n",
    "    a4 = h\n",
    "    \n",
    "    for x in range(pics):\n",
    "    \n",
    "        if mode == 'sh':\n",
    "            matplotlib.pyplot.imshow(img.crop((a1, a2, a3, a4)))\n",
    "        else:\n",
    "            img.crop((a1, a2, a3, a4)).save(outputPath +'tmp%d.png' % (x + 1))\n",
    "            pass\n",
    "        \n",
    "        a1 = a1 + w / pics\n",
    "        a3 = a3 + w / pics\n",
    "        \n",
    "        pass\n",
    "    pass\n",
    "pass\n",
    "\n",
    "cutNumber(path,pics,mode,outputPath)    \n",
    "  \n",
    "\n"
   ]
  },
  {
   "cell_type": "code",
   "execution_count": 376,
   "metadata": {},
   "outputs": [
    {
     "name": "stdout",
     "output_type": "stream",
     "text": [
      "5\n",
      "0\n",
      "1\n",
      "4\n",
      "9\n"
     ]
    }
   ],
   "source": [
    "path = \"/Users/jonas/Desktop/neural_network/test_images/\"\n",
    "pixel = 28\n",
    "replaceAtColor = 50.0\n",
    "mode = 's'\n",
    "pics = 5\n",
    "outputPath = '/Users/jonas/Desktop/neural_network/strom_train.csv'\n",
    "\n",
    "def getTrainingData (path,pixel,replaceAtColor,mode,pics,correct,outputPath):\n",
    "    \n",
    "    for pic in range(pics):\n",
    "        imgPath = path + 'tmp%d.png' % (pic+1)\n",
    "        img_array = imageio.imread(imgPath, as_gray=True)\n",
    "        img_array = transform.resize(img_array,(pixel,pixel), anti_aliasing=False)\n",
    "        \n",
    "        img1 = Image.open(imgPath)\n",
    "        img1.show()\n",
    "        img1.close()\n",
    "        \n",
    "        correct = input()\n",
    "        tmp = img_array.reshape(pixel*pixel)\n",
    "        idx = 0\n",
    "    \n",
    "        for x in tmp:\n",
    "            if x < replaceAtColor:\n",
    "                tmp[idx] = 0.0\n",
    "            pass\n",
    "            temp = tmp[idx].astype(int)\n",
    "            correct = correct + ',' + temp.astype(str)\n",
    "            idx += 1\n",
    "        pass\n",
    "        correct = correct + \"\\n\"\n",
    "    \n",
    "        if mode == 'sh':\n",
    "            matplotlib.pyplot.imshow(tmp.reshape((pixel,pixel)))\n",
    "        else:\n",
    "            with open(outputPath, mode='a') as the_file:\n",
    "                the_file.write(correct)\n",
    "                the_file.newlines\n",
    "            the_file.close()\n",
    "        pass\n",
    "    pass\n",
    "pass\n",
    "    \n",
    "    \n",
    "getTrainingData(path,pixel,replaceAtColor,mode,pics,correct,outputPath)"
   ]
  },
  {
   "cell_type": "code",
   "execution_count": null,
   "metadata": {},
   "outputs": [],
   "source": []
  }
 ],
 "metadata": {
  "kernelspec": {
   "display_name": "Python 3",
   "language": "python",
   "name": "python3"
  },
  "language_info": {
   "codemirror_mode": {
    "name": "ipython",
    "version": 3
   },
   "file_extension": ".py",
   "mimetype": "text/x-python",
   "name": "python",
   "nbconvert_exporter": "python",
   "pygments_lexer": "ipython3",
   "version": "3.7.1"
  }
 },
 "nbformat": 4,
 "nbformat_minor": 2
}
